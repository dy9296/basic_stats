{
 "cells": [
  {
   "cell_type": "code",
   "execution_count": 2,
   "metadata": {},
   "outputs": [],
   "source": [
    "import numpy as np"
   ]
  },
  {
   "cell_type": "code",
   "execution_count": 12,
   "metadata": {},
   "outputs": [
    {
     "name": "stdout",
     "output_type": "stream",
     "text": [
      "1.77245385090552\n",
      "1.7724538509055159\n",
      "[ True  True  True  True  True  True  True  True  True  True  True  True\n",
      "  True  True  True  True  True  True  True  True  True  True  True  True\n",
      "  True  True  True  True  True  True  True  True  True  True  True  True\n",
      "  True  True  True  True  True  True  True  True  True  True  True  True\n",
      "  True  True  True  True  True  True  True  True  True  True  True  True\n",
      "  True  True  True  True  True  True  True  True  True  True  True  True\n",
      "  True  True  True  True  True  True  True  True  True  True  True  True\n",
      "  True  True  True  True  True  True  True  True  True  True  True  True\n",
      "  True  True  True  True]\n"
     ]
    }
   ],
   "source": [
    "# gamma distribuiton\n",
    "\n",
    "from distribution import gamma as gamma_dist\n",
    "from scipy.special import gamma\n",
    "\n",
    "print(gamma_dist(0.5).function())\n",
    "print(gamma(0.5))\n",
    "\n",
    "var_x = np.linspace(1, 20, 100)\n",
    "\n",
    "result = gamma_dist(0.5).pdf(var_x)\n",
    "answer = (1 / gamma(0.5)) * (var_x ** (0.5 - 1)) * np.exp(-var_x)\n",
    "\n",
    "print(result.round(6) == answer.round(6))"
   ]
  },
  {
   "cell_type": "code",
   "execution_count": 13,
   "metadata": {},
   "outputs": [
    {
     "name": "stdout",
     "output_type": "stream",
     "text": [
      "3.14159265358979\n",
      "3.1415926535897927\n",
      "[ True  True  True  True  True  True  True  True  True  True  True  True\n",
      "  True  True  True  True  True  True  True  True  True  True  True  True\n",
      "  True  True  True  True  True  True  True  True  True  True  True  True\n",
      "  True  True  True  True  True  True  True  True  True  True  True  True\n",
      "  True  True  True  True  True  True  True  True  True  True  True  True\n",
      "  True  True  True  True  True  True  True  True  True  True  True  True\n",
      "  True  True  True  True  True  True  True  True  True  True  True  True\n",
      "  True  True  True  True  True  True  True  True  True  True  True  True\n",
      "  True  True  True  True]\n"
     ]
    }
   ],
   "source": [
    "# beta distribuiton\n",
    "\n",
    "from distribution import beta as beta_dist\n",
    "from scipy.special import beta\n",
    "\n",
    "print(beta_dist(0.5, 0.5).function())\n",
    "print(beta(0.5, 0.5))\n",
    "\n",
    "var_x = np.linspace(0.01, 0.99, 100)\n",
    "\n",
    "result = beta_dist(0.5, 0.5).pdf(var_x)\n",
    "answer = (1 / beta(0.5, 0.5)) * var_x ** (0.5 - 1) * (1 - var_x) ** (0.5 - 1)\n",
    "\n",
    "print(result.round(6) == answer.round(6))"
   ]
  }
 ],
 "metadata": {
  "interpreter": {
   "hash": "f7a2b3071605ca42eb4610b88858a0644fb680c50153bd8b8fc154bd679148a6"
  },
  "kernelspec": {
   "display_name": "Python 3.9.2 64-bit",
   "language": "python",
   "name": "python3"
  },
  "language_info": {
   "codemirror_mode": {
    "name": "ipython",
    "version": 3
   },
   "file_extension": ".py",
   "mimetype": "text/x-python",
   "name": "python",
   "nbconvert_exporter": "python",
   "pygments_lexer": "ipython3",
   "version": "3.9.2"
  },
  "orig_nbformat": 4
 },
 "nbformat": 4,
 "nbformat_minor": 2
}
